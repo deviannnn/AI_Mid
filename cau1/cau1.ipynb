{
  "nbformat": 4,
  "nbformat_minor": 0,
  "metadata": {
    "colab": {
      "provenance": [],
      "gpuType": "T4"
    },
    "kernelspec": {
      "name": "python3",
      "display_name": "Python 3"
    },
    "language_info": {
      "name": "python"
    }
  },
  "cells": [
    {
      "cell_type": "markdown",
      "source": [
        "# Libraries\n"
      ],
      "metadata": {
        "id": "rsAy7xSndzCP"
      }
    },
    {
      "cell_type": "code",
      "source": [
        "from copy import deepcopy\n",
        "from graphviz import Digraph\n",
        "from queue import Queue, PriorityQueue\n",
        "import numpy as np\n",
        "import random\n",
        "import matplotlib.pyplot as plt"
      ],
      "metadata": {
        "id": "MetL6DcFeF2S"
      },
      "execution_count": 1,
      "outputs": []
    },
    {
      "cell_type": "markdown",
      "source": [
        "# Node Class"
      ],
      "metadata": {
        "id": "MMpQmfqkeMDx"
      }
    },
    {
      "cell_type": "code",
      "execution_count": 5,
      "metadata": {
        "id": "Du73JoxCo9Fn"
      },
      "outputs": [],
      "source": [
        "class Node:\n",
        "  def __init__(self, state_or_id, action=None, parent=None):\n",
        "    if isinstance(state_or_id, str):\n",
        "      self.id = state_or_id\n",
        "      self.state = self.state_from_id(state_or_id)\n",
        "    else:\n",
        "      self.state = state_or_id\n",
        "      self.id = self.id_from_state(state_or_id)\n",
        "    self.action = action\n",
        "    self.parent = parent\n",
        "    self.f_value = 0\n",
        "    self.g_value = 0\n",
        "\n",
        "  def __str__(self):\n",
        "    return self.id\n",
        "\n",
        "  def __lt__(self, other):\n",
        "    return self.get_f_value() < other.get_f_value()\n",
        "\n",
        "  @staticmethod\n",
        "  def state_from_id(string):\n",
        "    return [[int(char) if char.isdigit() else 0 for char in row] for row in string.split('\\\\n')]\n",
        "\n",
        "  @staticmethod\n",
        "  def id_from_state(state):\n",
        "    return '\\\\n'.join(''.join(str(cell) if cell != 0 else '_' for cell in row) for row in state)\n",
        "\n",
        "  def set_f_value(self, f_value):\n",
        "    self.f_value = f_value\n",
        "\n",
        "  def get_f_value(self):\n",
        "    return self.f_value\n",
        "\n",
        "  def set_g_value(self, g_value):\n",
        "    self.g_value = g_value\n",
        "\n",
        "  def get_g_value(self):\n",
        "    return self.g_value\n",
        "\n",
        "  def get_successors(self):\n",
        "    successors = []\n",
        "    for action in ['L', 'R', 'U', 'D']:\n",
        "        successor_state = self.get_successor(action, deepcopy(self.state))\n",
        "        if successor_state is not None:\n",
        "            successors.append(Node(successor_state, action, self))\n",
        "    return successors\n",
        "\n",
        "  def get_successor(self, action, state):\n",
        "    pi, pj = self.get_blank_pos(state)\n",
        "    pi, pj = self.get_dest_pos(action, pi, pj)\n",
        "    if 0 <= pi and pi < 3 and 0 <= pj and pj < 3:\n",
        "      if action == 'L':\n",
        "        state[pi][pj - 1] = state[pi][pj]\n",
        "      if action == 'R':\n",
        "        state[pi][pj + 1] = state[pi][pj]\n",
        "      if action == 'U':\n",
        "        state[pi-1][pj] = state[pi][pj]\n",
        "      if action == 'D':\n",
        "        state[pi+1][pj] = state[pi][pj]\n",
        "      state[pi][pj] = 0\n",
        "      return state\n",
        "    return None\n",
        "\n",
        "  def get_dest_pos(self, action, pi, pj):\n",
        "    if action == 'L':\n",
        "      pj += 1\n",
        "    if action == 'R':\n",
        "      pj -= 1\n",
        "    if action == 'U':\n",
        "      pi += 1\n",
        "    if action == 'D':\n",
        "      pi -= 1\n",
        "    return pi, pj\n",
        "\n",
        "  def get_blank_pos(self, state):\n",
        "    for i in range(3):\n",
        "      for j in range(3):\n",
        "        if state[i][j] == 0:\n",
        "          return (i, j)\n",
        "    return None\n",
        "\n",
        "  def get_id(self):\n",
        "    return self.id\n",
        "\n",
        "  def get_node_str(self):\n",
        "    return str(self)\n",
        "\n",
        "  def get_action(self):\n",
        "    return self.action\n",
        "\n",
        "  def get_parent(self):\n",
        "    return self.parent\n",
        "\n",
        "  def get_state(self):\n",
        "    return self.state\n",
        "\n",
        "  @staticmethod\n",
        "  def get_goal_states() -> list:\n",
        "    return [[[0, 1, 2], [3,4,5], [6, 7, 8]], [[0, 1, 2], [3,4,5], [6, 7, 8]]]\n",
        "\n",
        "  def goal_test(self):\n",
        "    return self.get_id() in ['123\\\\n456\\\\n78_', '_12\\\\n345\\\\n678']\n",
        "\n",
        "  def draw(self, dot):\n",
        "    dot.node(self.get_id(), self.get_node_str())\n",
        "    if self.parent is not None:\n",
        "      dot.edge(self.parent.get_id(), self.get_id(), self.get_action())"
      ]
    },
    {
      "cell_type": "markdown",
      "source": [
        "# Search Agents"
      ],
      "metadata": {
        "id": "ikT8zfxteVZV"
      }
    },
    {
      "cell_type": "code",
      "source": [
        "class search:\n",
        "  def qualified_states(self, goal_node):\n",
        "    frontier = Queue()\n",
        "    frontier.put(goal_node)\n",
        "\n",
        "    explored = set()\n",
        "\n",
        "    while not frontier.empty():\n",
        "      current_node = frontier.get()\n",
        "      explored.add(current_node.get_id())\n",
        "\n",
        "      for successor in current_node.get_successors():\n",
        "        if successor.get_id() not in explored:\n",
        "          explored.add(successor.get_id())\n",
        "          frontier.put(successor)\n",
        "\n",
        "    return explored\n",
        "\n",
        "  def visualize(self, list_node) -> tuple:\n",
        "    dot = Digraph()\n",
        "    path = list()\n",
        "\n",
        "    while list_node:\n",
        "      current_node = list_node.pop(0)\n",
        "\n",
        "      if current_node.get_action() is not None:\n",
        "        path.append(current_node.get_action())\n",
        "\n",
        "      current_node.draw(dot)\n",
        "\n",
        "    return dot, path, len(path)\n",
        "\n",
        "  def BFS(self, initial_node: Node) -> list:\n",
        "    frontier = Queue()\n",
        "    frontier.put((initial_node, [initial_node]))\n",
        "\n",
        "    explored = set()\n",
        "\n",
        "    while not frontier.empty():\n",
        "      current_node, list_node = frontier.get()\n",
        "\n",
        "      if current_node.goal_test():\n",
        "        return list_node\n",
        "\n",
        "      explored.add(current_node.get_id())\n",
        "\n",
        "      for successor in current_node.get_successors():\n",
        "        if successor.get_id() not in explored:\n",
        "          explored.add(successor.get_id())\n",
        "          frontier.put((successor, list_node + [successor]))\n",
        "\n",
        "    return []\n",
        "\n",
        "  def manhattan(self, node: Node):\n",
        "    min_distance = float('inf')\n",
        "    state = node.get_state()\n",
        "    for goal_state in node.get_goal_states():\n",
        "      distance = 0\n",
        "      for i in range(len(state)):\n",
        "        for j in range(len(state[0])):\n",
        "          cell_value = state[i][j]\n",
        "          if cell_value != 0:\n",
        "            goal_position = self.find_position(cell_value, goal_state)\n",
        "            distance += abs(i - goal_position[0]) + abs(j - goal_position[1])\n",
        "\n",
        "      min_distance = min(min_distance, distance)\n",
        "\n",
        "    return min_distance\n",
        "\n",
        "  def euclidean(self, node: Node):\n",
        "    min_distance = float('inf')\n",
        "    state = node.get_state()\n",
        "    for goal_state in node.get_goal_states():\n",
        "      distance = 0\n",
        "      for i in range(len(state)):\n",
        "        for j in range(len(state[0])):\n",
        "          cell_value = state[i][j]\n",
        "          if cell_value != 0:\n",
        "            goal_position = self.find_position(cell_value, goal_state)\n",
        "            distance += ((i - goal_position[0]) ** 2 + (j - goal_position[1]) ** 2) ** 0.5\n",
        "\n",
        "      min_distance = min(min_distance, distance)\n",
        "\n",
        "    return min_distance\n",
        "\n",
        "  def find_position(self, value, state):\n",
        "    for i in range(len(state)):\n",
        "      for j in range(len(state[0])):\n",
        "        if state[i][j] == value:\n",
        "          return (i, j)\n",
        "    return None\n",
        "\n",
        "  def A_star(self, initial_node: Node, heuristic_func) -> list:\n",
        "    frontier = PriorityQueue()\n",
        "    f_value = heuristic_func(initial_node)\n",
        "    initial_node.set_f_value(f_value)\n",
        "    initial_node.set_g_value(0)\n",
        "    frontier.put((f_value, (initial_node, [initial_node])))\n",
        "\n",
        "    explored = set()\n",
        "\n",
        "    while not frontier.empty():\n",
        "      current_f_value, (current_node, list_node) = frontier.get()\n",
        "      # print('\\n', current_node.get_id(), 'g', current_node.get_g_value(), 'f:', current_f_value)\n",
        "      if current_node.goal_test():\n",
        "        return list_node\n",
        "\n",
        "      explored.add(current_node.get_id())\n",
        "\n",
        "      for successor in current_node.get_successors():\n",
        "        if successor.get_id() not in explored:\n",
        "          explored.add(successor.get_id())\n",
        "          g_value = current_node.get_g_value() + 1\n",
        "          h_value = heuristic_func(successor)\n",
        "          f_value = g_value + h_value\n",
        "          successor.set_f_value(f_value)\n",
        "          successor.set_g_value(g_value)\n",
        "          # print(\"current:\", current_node.get_id(), ' -> ', successor.get_action(), ' -> ', successor.get_id(), ' f:', f_value)\n",
        "\n",
        "          frontier.put((f_value, (successor, list_node + [successor])))\n",
        "\n",
        "    return []"
      ],
      "metadata": {
        "id": "jqp5tCYto-Nj"
      },
      "execution_count": 6,
      "outputs": []
    },
    {
      "cell_type": "markdown",
      "source": [
        "# a) Find results with any state using BFS or A* algorithm"
      ],
      "metadata": {
        "id": "qRrb9IpV-7mz"
      }
    },
    {
      "cell_type": "code",
      "source": [
        "def algorithm(initial_node, searcher_chosen, heuristic = None): # (2D list state, algorithm)\n",
        "  searcher = search()\n",
        "\n",
        "  if (searcher_chosen == \"BFS\"):\n",
        "    list_node = searcher.BFS(initial_node)\n",
        "  elif (searcher_chosen == \"A*\"):\n",
        "    if (heuristic == \"manhattan\"):\n",
        "      list_node = searcher.A_star(initial_node, searcher.manhattan)\n",
        "    elif (heuristic == \"euclidean\"):\n",
        "      list_node = searcher.A_star(initial_node, searcher.euclidean)\n",
        "    else:\n",
        "      list_node = searcher.A_star(initial_node, searcher.manhattan) # default\n",
        "  else:\n",
        "    list_node = searcher.BFS(initial_node) # default\n",
        "\n",
        "  if (len(list_node) > 0):\n",
        "    return searcher.visualize(list_node)\n",
        "\n",
        "  return 'Error: Cannot find the goal state with ' + str(initial_node)"
      ],
      "metadata": {
        "id": "umC66RDOpArV"
      },
      "execution_count": 7,
      "outputs": []
    },
    {
      "cell_type": "code",
      "source": [
        "visualize = Digraph()\n",
        "\n",
        "# test_state = np.random.choice(9, size=(3, 3), replace=False).tolist() # random\n",
        "# test_state = '345\\\\n786\\\\n_12'                                        # str\n",
        "test_state = [[0, 1, 2], [3, 8, 4], [6, 7, 5]]                          # list 2d\n",
        "\n",
        "# some test_case\n",
        "# [[3, 5, 2], [6, 8, 7], [0, 4, 1]]\n",
        "# [[3, 7, 4], [2, 0, 8], [1, 6, 5]]\n",
        "# [[0, 1, 2], [3, 8, 4], [6, 7, 5]]\n",
        "# [[6, 0, 2], [3, 1, 5], [7, 4, 8]] cannot find\n",
        "# [[5, 8, 3], [7, 1, 0], [2, 6, 4]] cannot find very long\n",
        "\n",
        "print(\"Initial State:\", test_state)\n",
        "\n",
        "# result = algorithm(Node(test_state), \"BFS\")\n",
        "# result = algorithm(Node(test_state), \"A*\", \"manhattan\")\n",
        "result = algorithm(Node(test_state), \"A*\", \"euclidean\")\n",
        "\n",
        "if isinstance(result, tuple):\n",
        "    visualize, path, cost = result\n",
        "    print(\"Path:\", path)\n",
        "    print(\"Cost:\", cost)\n",
        "    print(\"Visualization\")\n",
        "else:\n",
        "    print(result)\n",
        "\n",
        "visualize"
      ],
      "metadata": {
        "id": "-RqgC42spBKF",
        "colab": {
          "base_uri": "https://localhost:8080/",
          "height": 1000
        },
        "outputId": "6f3c2b88-cd1c-4abd-f7c7-fd1eee4208f9"
      },
      "execution_count": 11,
      "outputs": [
        {
          "output_type": "stream",
          "name": "stdout",
          "text": [
            "Initial State: [[0, 1, 2], [3, 8, 4], [6, 7, 5]]\n",
            "\n",
            " _12\\n384\\n675 g 0 f: 3.414213562373095\n",
            "current: _12\\n384\\n675  ->  L  ->  1_2\\n384\\n675  f: 5.414213562373095\n",
            "current: _12\\n384\\n675  ->  U  ->  312\\n_84\\n675  f: 5.414213562373095\n",
            "\n",
            " 1_2\\n384\\n675 g 1 f: 5.414213562373095\n",
            "current: 1_2\\n384\\n675  ->  L  ->  12_\\n384\\n675  f: 7.414213562373095\n",
            "current: 1_2\\n384\\n675  ->  U  ->  182\\n3_4\\n675  f: 7.23606797749979\n",
            "\n",
            " 312\\n_84\\n675 g 1 f: 5.414213562373095\n",
            "current: 312\\n_84\\n675  ->  L  ->  312\\n8_4\\n675  f: 7.23606797749979\n",
            "current: 312\\n_84\\n675  ->  U  ->  312\\n684\\n_75  f: 7.414213562373095\n",
            "\n",
            " 182\\n3_4\\n675 g 2 f: 7.23606797749979\n",
            "current: 182\\n3_4\\n675  ->  L  ->  182\\n34_\\n675  f: 7.23606797749979\n",
            "current: 182\\n3_4\\n675  ->  R  ->  182\\n_34\\n675  f: 9.23606797749979\n",
            "current: 182\\n3_4\\n675  ->  U  ->  182\\n374\\n6_5  f: 9.23606797749979\n",
            "\n",
            " 312\\n8_4\\n675 g 2 f: 7.23606797749979\n",
            "current: 312\\n8_4\\n675  ->  L  ->  312\\n84_\\n675  f: 7.23606797749979\n",
            "current: 312\\n8_4\\n675  ->  U  ->  312\\n874\\n6_5  f: 9.23606797749979\n",
            "current: 312\\n8_4\\n675  ->  D  ->  3_2\\n814\\n675  f: 9.23606797749979\n",
            "\n",
            " 182\\n34_\\n675 g 3 f: 7.23606797749979\n",
            "current: 182\\n34_\\n675  ->  U  ->  182\\n345\\n67_  f: 7.23606797749979\n",
            "current: 182\\n34_\\n675  ->  D  ->  18_\\n342\\n675  f: 9.23606797749979\n",
            "\n",
            " 312\\n84_\\n675 g 3 f: 7.23606797749979\n",
            "current: 312\\n84_\\n675  ->  U  ->  312\\n845\\n67_  f: 7.23606797749979\n",
            "current: 312\\n84_\\n675  ->  D  ->  31_\\n842\\n675  f: 9.23606797749979\n",
            "\n",
            " 182\\n345\\n67_ g 4 f: 7.23606797749979\n",
            "current: 182\\n345\\n67_  ->  R  ->  182\\n345\\n6_7  f: 9.23606797749979\n",
            "\n",
            " 312\\n845\\n67_ g 4 f: 7.23606797749979\n",
            "current: 312\\n845\\n67_  ->  R  ->  312\\n845\\n6_7  f: 9.23606797749979\n",
            "\n",
            " 312\\n684\\n_75 g 2 f: 7.414213562373095\n",
            "current: 312\\n684\\n_75  ->  L  ->  312\\n684\\n7_5  f: 9.414213562373096\n",
            "\n",
            " 12_\\n384\\n675 g 2 f: 7.414213562373095\n",
            "current: 12_\\n384\\n675  ->  U  ->  124\\n38_\\n675  f: 8.82842712474619\n",
            "\n",
            " 124\\n38_\\n675 g 3 f: 8.82842712474619\n",
            "current: 124\\n38_\\n675  ->  R  ->  124\\n3_8\\n675  f: 9.414213562373096\n",
            "current: 124\\n38_\\n675  ->  U  ->  124\\n385\\n67_  f: 8.82842712474619\n",
            "\n",
            " 124\\n385\\n67_ g 4 f: 8.82842712474619\n",
            "current: 124\\n385\\n67_  ->  R  ->  124\\n385\\n6_7  f: 10.82842712474619\n",
            "\n",
            " 3_2\\n814\\n675 g 3 f: 9.23606797749979\n",
            "current: 3_2\\n814\\n675  ->  L  ->  32_\\n814\\n675  f: 11.23606797749979\n",
            "current: 3_2\\n814\\n675  ->  R  ->  _32\\n814\\n675  f: 10.650281539872886\n",
            "\n",
            " 312\\n845\\n6_7 g 5 f: 9.23606797749979\n",
            "current: 312\\n845\\n6_7  ->  R  ->  312\\n845\\n_67  f: 11.23606797749979\n",
            "current: 312\\n845\\n6_7  ->  D  ->  312\\n8_5\\n647  f: 11.23606797749979\n",
            "\n",
            " 182\\n_34\\n675 g 3 f: 9.23606797749979\n",
            "current: 182\\n_34\\n675  ->  U  ->  182\\n634\\n_75  f: 11.23606797749979\n",
            "current: 182\\n_34\\n675  ->  D  ->  _82\\n134\\n675  f: 10.650281539872886\n",
            "\n",
            " 182\\n345\\n6_7 g 5 f: 9.23606797749979\n",
            "current: 182\\n345\\n6_7  ->  R  ->  182\\n345\\n_67  f: 11.23606797749979\n",
            "current: 182\\n345\\n6_7  ->  D  ->  182\\n3_5\\n647  f: 11.23606797749979\n",
            "\n",
            " 312\\n874\\n6_5 g 3 f: 9.23606797749979\n",
            "current: 312\\n874\\n6_5  ->  L  ->  312\\n874\\n65_  f: 10.650281539872886\n",
            "current: 312\\n874\\n6_5  ->  R  ->  312\\n874\\n_65  f: 11.23606797749979\n",
            "\n",
            " 182\\n374\\n6_5 g 3 f: 9.23606797749979\n",
            "current: 182\\n374\\n6_5  ->  L  ->  182\\n374\\n65_  f: 10.650281539872886\n",
            "current: 182\\n374\\n6_5  ->  R  ->  182\\n374\\n_65  f: 11.23606797749979\n",
            "\n",
            " 31_\\n842\\n675 g 4 f: 9.23606797749979\n",
            "current: 31_\\n842\\n675  ->  R  ->  3_1\\n842\\n675  f: 11.23606797749979\n",
            "\n",
            " 18_\\n342\\n675 g 4 f: 9.23606797749979\n",
            "current: 18_\\n342\\n675  ->  R  ->  1_8\\n342\\n675  f: 10.0\n",
            "\n",
            " 312\\n684\\n7_5 g 3 f: 9.414213562373096\n",
            "current: 312\\n684\\n7_5  ->  L  ->  312\\n684\\n75_  f: 10.82842712474619\n",
            "current: 312\\n684\\n7_5  ->  D  ->  312\\n6_4\\n785  f: 10.0\n",
            "\n",
            " 124\\n3_8\\n675 g 4 f: 9.414213562373096\n",
            "current: 124\\n3_8\\n675  ->  R  ->  124\\n_38\\n675  f: 11.414213562373096\n",
            "current: 124\\n3_8\\n675  ->  U  ->  124\\n378\\n6_5  f: 11.414213562373096\n",
            "current: 124\\n3_8\\n675  ->  D  ->  1_4\\n328\\n675  f: 10.82842712474619\n",
            "\n",
            " 1_8\\n342\\n675 g 5 f: 10.0\n",
            "current: 1_8\\n342\\n675  ->  R  ->  _18\\n342\\n675  f: 10.0\n",
            "current: 1_8\\n342\\n675  ->  U  ->  148\\n3_2\\n675  f: 12.0\n",
            "\n",
            " 312\\n6_4\\n785 g 4 f: 10.0\n",
            "current: 312\\n6_4\\n785  ->  L  ->  312\\n64_\\n785  f: 10.0\n",
            "current: 312\\n6_4\\n785  ->  R  ->  312\\n_64\\n785  f: 11.414213562373096\n",
            "current: 312\\n6_4\\n785  ->  D  ->  3_2\\n614\\n785  f: 12.0\n",
            "\n",
            " _18\\n342\\n675 g 6 f: 10.0\n",
            "current: _18\\n342\\n675  ->  U  ->  318\\n_42\\n675  f: 12.0\n",
            "\n",
            " 312\\n64_\\n785 g 5 f: 10.0\n",
            "current: 312\\n64_\\n785  ->  U  ->  312\\n645\\n78_  f: 10.0\n",
            "current: 312\\n64_\\n785  ->  D  ->  31_\\n642\\n785  f: 12.0\n",
            "\n",
            " 312\\n645\\n78_ g 6 f: 10.0\n",
            "current: 312\\n645\\n78_  ->  R  ->  312\\n645\\n7_8  f: 10.0\n",
            "\n",
            " 312\\n645\\n7_8 g 7 f: 10.0\n",
            "current: 312\\n645\\n7_8  ->  R  ->  312\\n645\\n_78  f: 10.0\n",
            "current: 312\\n645\\n7_8  ->  D  ->  312\\n6_5\\n748  f: 12.0\n",
            "\n",
            " 312\\n645\\n_78 g 8 f: 10.0\n",
            "current: 312\\n645\\n_78  ->  D  ->  312\\n_45\\n678  f: 10.0\n",
            "\n",
            " 312\\n_45\\n678 g 9 f: 10.0\n",
            "current: 312\\n_45\\n678  ->  L  ->  312\\n4_5\\n678  f: 12.0\n",
            "current: 312\\n_45\\n678  ->  D  ->  _12\\n345\\n678  f: 10.0\n",
            "\n",
            " _12\\n345\\n678 g 10 f: 10.0\n",
            "Path: ['U', 'U', 'L', 'D', 'L', 'U', 'R', 'R', 'D', 'D']\n",
            "Cost: 10\n",
            "Visualization\n"
          ]
        },
        {
          "output_type": "execute_result",
          "data": {
            "image/svg+xml": "<?xml version=\"1.0\" encoding=\"UTF-8\" standalone=\"no\"?>\n<!DOCTYPE svg PUBLIC \"-//W3C//DTD SVG 1.1//EN\"\n \"http://www.w3.org/Graphics/SVG/1.1/DTD/svg11.dtd\">\n<!-- Generated by graphviz version 2.43.0 (0)\n -->\n<!-- Title: %3 Pages: 1 -->\n<svg width=\"62pt\" height=\"1342pt\"\n viewBox=\"0.00 0.00 62.00 1342.49\" xmlns=\"http://www.w3.org/2000/svg\" xmlns:xlink=\"http://www.w3.org/1999/xlink\">\n<g id=\"graph0\" class=\"graph\" transform=\"scale(1 1) rotate(0) translate(4 1338.49)\">\n<title>%3</title>\n<polygon fill=\"white\" stroke=\"transparent\" points=\"-4,4 -4,-1338.49 58,-1338.49 58,4 -4,4\"/>\n<!-- _12\\n384\\n675 -->\n<g id=\"node1\" class=\"node\">\n<title>_12\\n384\\n675</title>\n<ellipse fill=\"none\" stroke=\"black\" cx=\"27\" cy=\"-1297.01\" rx=\"27\" ry=\"37.45\"/>\n<text text-anchor=\"middle\" x=\"27\" y=\"-1308.31\" font-family=\"Times,serif\" font-size=\"14.00\">_12</text>\n<text text-anchor=\"middle\" x=\"27\" y=\"-1293.31\" font-family=\"Times,serif\" font-size=\"14.00\">384</text>\n<text text-anchor=\"middle\" x=\"27\" y=\"-1278.31\" font-family=\"Times,serif\" font-size=\"14.00\">675</text>\n</g>\n<!-- 312\\n_84\\n675 -->\n<g id=\"node2\" class=\"node\">\n<title>312\\n_84\\n675</title>\n<ellipse fill=\"none\" stroke=\"black\" cx=\"27\" cy=\"-1171.06\" rx=\"27\" ry=\"37.45\"/>\n<text text-anchor=\"middle\" x=\"27\" y=\"-1182.36\" font-family=\"Times,serif\" font-size=\"14.00\">312</text>\n<text text-anchor=\"middle\" x=\"27\" y=\"-1167.36\" font-family=\"Times,serif\" font-size=\"14.00\">_84</text>\n<text text-anchor=\"middle\" x=\"27\" y=\"-1152.36\" font-family=\"Times,serif\" font-size=\"14.00\">675</text>\n</g>\n<!-- _12\\n384\\n675&#45;&gt;312\\n_84\\n675 -->\n<g id=\"edge1\" class=\"edge\">\n<title>_12\\n384\\n675&#45;&gt;312\\n_84\\n675</title>\n<path fill=\"none\" stroke=\"black\" d=\"M27,-1259.49C27,-1246.74 27,-1232.26 27,-1218.79\"/>\n<polygon fill=\"black\" stroke=\"black\" points=\"30.5,-1218.74 27,-1208.74 23.5,-1218.74 30.5,-1218.74\"/>\n<text text-anchor=\"middle\" x=\"32\" y=\"-1230.33\" font-family=\"Times,serif\" font-size=\"14.00\">U</text>\n</g>\n<!-- 312\\n684\\n_75 -->\n<g id=\"node3\" class=\"node\">\n<title>312\\n684\\n_75</title>\n<ellipse fill=\"none\" stroke=\"black\" cx=\"27\" cy=\"-1045.1\" rx=\"27\" ry=\"37.45\"/>\n<text text-anchor=\"middle\" x=\"27\" y=\"-1056.4\" font-family=\"Times,serif\" font-size=\"14.00\">312</text>\n<text text-anchor=\"middle\" x=\"27\" y=\"-1041.4\" font-family=\"Times,serif\" font-size=\"14.00\">684</text>\n<text text-anchor=\"middle\" x=\"27\" y=\"-1026.4\" font-family=\"Times,serif\" font-size=\"14.00\">_75</text>\n</g>\n<!-- 312\\n_84\\n675&#45;&gt;312\\n684\\n_75 -->\n<g id=\"edge2\" class=\"edge\">\n<title>312\\n_84\\n675&#45;&gt;312\\n684\\n_75</title>\n<path fill=\"none\" stroke=\"black\" d=\"M27,-1133.54C27,-1120.79 27,-1106.3 27,-1092.84\"/>\n<polygon fill=\"black\" stroke=\"black\" points=\"30.5,-1092.79 27,-1082.79 23.5,-1092.79 30.5,-1092.79\"/>\n<text text-anchor=\"middle\" x=\"32\" y=\"-1104.38\" font-family=\"Times,serif\" font-size=\"14.00\">U</text>\n</g>\n<!-- 312\\n684\\n7_5 -->\n<g id=\"node4\" class=\"node\">\n<title>312\\n684\\n7_5</title>\n<ellipse fill=\"none\" stroke=\"black\" cx=\"27\" cy=\"-919.15\" rx=\"27\" ry=\"37.45\"/>\n<text text-anchor=\"middle\" x=\"27\" y=\"-930.45\" font-family=\"Times,serif\" font-size=\"14.00\">312</text>\n<text text-anchor=\"middle\" x=\"27\" y=\"-915.45\" font-family=\"Times,serif\" font-size=\"14.00\">684</text>\n<text text-anchor=\"middle\" x=\"27\" y=\"-900.45\" font-family=\"Times,serif\" font-size=\"14.00\">7_5</text>\n</g>\n<!-- 312\\n684\\n_75&#45;&gt;312\\n684\\n7_5 -->\n<g id=\"edge3\" class=\"edge\">\n<title>312\\n684\\n_75&#45;&gt;312\\n684\\n7_5</title>\n<path fill=\"none\" stroke=\"black\" d=\"M27,-1007.58C27,-994.84 27,-980.35 27,-966.89\"/>\n<polygon fill=\"black\" stroke=\"black\" points=\"30.5,-966.84 27,-956.84 23.5,-966.84 30.5,-966.84\"/>\n<text text-anchor=\"middle\" x=\"31.5\" y=\"-978.43\" font-family=\"Times,serif\" font-size=\"14.00\">L</text>\n</g>\n<!-- 312\\n6_4\\n785 -->\n<g id=\"node5\" class=\"node\">\n<title>312\\n6_4\\n785</title>\n<ellipse fill=\"none\" stroke=\"black\" cx=\"27\" cy=\"-793.2\" rx=\"27\" ry=\"37.45\"/>\n<text text-anchor=\"middle\" x=\"27\" y=\"-804.5\" font-family=\"Times,serif\" font-size=\"14.00\">312</text>\n<text text-anchor=\"middle\" x=\"27\" y=\"-789.5\" font-family=\"Times,serif\" font-size=\"14.00\">6_4</text>\n<text text-anchor=\"middle\" x=\"27\" y=\"-774.5\" font-family=\"Times,serif\" font-size=\"14.00\">785</text>\n</g>\n<!-- 312\\n684\\n7_5&#45;&gt;312\\n6_4\\n785 -->\n<g id=\"edge4\" class=\"edge\">\n<title>312\\n684\\n7_5&#45;&gt;312\\n6_4\\n785</title>\n<path fill=\"none\" stroke=\"black\" d=\"M27,-881.63C27,-868.88 27,-854.4 27,-840.93\"/>\n<polygon fill=\"black\" stroke=\"black\" points=\"30.5,-840.88 27,-830.88 23.5,-840.88 30.5,-840.88\"/>\n<text text-anchor=\"middle\" x=\"32\" y=\"-852.47\" font-family=\"Times,serif\" font-size=\"14.00\">D</text>\n</g>\n<!-- 312\\n64_\\n785 -->\n<g id=\"node6\" class=\"node\">\n<title>312\\n64_\\n785</title>\n<ellipse fill=\"none\" stroke=\"black\" cx=\"27\" cy=\"-667.24\" rx=\"27\" ry=\"37.45\"/>\n<text text-anchor=\"middle\" x=\"27\" y=\"-678.54\" font-family=\"Times,serif\" font-size=\"14.00\">312</text>\n<text text-anchor=\"middle\" x=\"27\" y=\"-663.54\" font-family=\"Times,serif\" font-size=\"14.00\">64_</text>\n<text text-anchor=\"middle\" x=\"27\" y=\"-648.54\" font-family=\"Times,serif\" font-size=\"14.00\">785</text>\n</g>\n<!-- 312\\n6_4\\n785&#45;&gt;312\\n64_\\n785 -->\n<g id=\"edge5\" class=\"edge\">\n<title>312\\n6_4\\n785&#45;&gt;312\\n64_\\n785</title>\n<path fill=\"none\" stroke=\"black\" d=\"M27,-755.68C27,-742.93 27,-728.44 27,-714.98\"/>\n<polygon fill=\"black\" stroke=\"black\" points=\"30.5,-714.93 27,-704.93 23.5,-714.93 30.5,-714.93\"/>\n<text text-anchor=\"middle\" x=\"31.5\" y=\"-726.52\" font-family=\"Times,serif\" font-size=\"14.00\">L</text>\n</g>\n<!-- 312\\n645\\n78_ -->\n<g id=\"node7\" class=\"node\">\n<title>312\\n645\\n78_</title>\n<ellipse fill=\"none\" stroke=\"black\" cx=\"27\" cy=\"-541.29\" rx=\"27\" ry=\"37.45\"/>\n<text text-anchor=\"middle\" x=\"27\" y=\"-552.59\" font-family=\"Times,serif\" font-size=\"14.00\">312</text>\n<text text-anchor=\"middle\" x=\"27\" y=\"-537.59\" font-family=\"Times,serif\" font-size=\"14.00\">645</text>\n<text text-anchor=\"middle\" x=\"27\" y=\"-522.59\" font-family=\"Times,serif\" font-size=\"14.00\">78_</text>\n</g>\n<!-- 312\\n64_\\n785&#45;&gt;312\\n645\\n78_ -->\n<g id=\"edge6\" class=\"edge\">\n<title>312\\n64_\\n785&#45;&gt;312\\n645\\n78_</title>\n<path fill=\"none\" stroke=\"black\" d=\"M27,-629.72C27,-616.98 27,-602.49 27,-589.03\"/>\n<polygon fill=\"black\" stroke=\"black\" points=\"30.5,-588.98 27,-578.98 23.5,-588.98 30.5,-588.98\"/>\n<text text-anchor=\"middle\" x=\"32\" y=\"-600.57\" font-family=\"Times,serif\" font-size=\"14.00\">U</text>\n</g>\n<!-- 312\\n645\\n7_8 -->\n<g id=\"node8\" class=\"node\">\n<title>312\\n645\\n7_8</title>\n<ellipse fill=\"none\" stroke=\"black\" cx=\"27\" cy=\"-415.34\" rx=\"27\" ry=\"37.45\"/>\n<text text-anchor=\"middle\" x=\"27\" y=\"-426.64\" font-family=\"Times,serif\" font-size=\"14.00\">312</text>\n<text text-anchor=\"middle\" x=\"27\" y=\"-411.64\" font-family=\"Times,serif\" font-size=\"14.00\">645</text>\n<text text-anchor=\"middle\" x=\"27\" y=\"-396.64\" font-family=\"Times,serif\" font-size=\"14.00\">7_8</text>\n</g>\n<!-- 312\\n645\\n78_&#45;&gt;312\\n645\\n7_8 -->\n<g id=\"edge7\" class=\"edge\">\n<title>312\\n645\\n78_&#45;&gt;312\\n645\\n7_8</title>\n<path fill=\"none\" stroke=\"black\" d=\"M27,-503.77C27,-491.02 27,-476.54 27,-463.07\"/>\n<polygon fill=\"black\" stroke=\"black\" points=\"30.5,-463.02 27,-453.02 23.5,-463.02 30.5,-463.02\"/>\n<text text-anchor=\"middle\" x=\"32\" y=\"-474.61\" font-family=\"Times,serif\" font-size=\"14.00\">R</text>\n</g>\n<!-- 312\\n645\\n_78 -->\n<g id=\"node9\" class=\"node\">\n<title>312\\n645\\n_78</title>\n<ellipse fill=\"none\" stroke=\"black\" cx=\"27\" cy=\"-289.38\" rx=\"27\" ry=\"37.45\"/>\n<text text-anchor=\"middle\" x=\"27\" y=\"-300.68\" font-family=\"Times,serif\" font-size=\"14.00\">312</text>\n<text text-anchor=\"middle\" x=\"27\" y=\"-285.68\" font-family=\"Times,serif\" font-size=\"14.00\">645</text>\n<text text-anchor=\"middle\" x=\"27\" y=\"-270.68\" font-family=\"Times,serif\" font-size=\"14.00\">_78</text>\n</g>\n<!-- 312\\n645\\n7_8&#45;&gt;312\\n645\\n_78 -->\n<g id=\"edge8\" class=\"edge\">\n<title>312\\n645\\n7_8&#45;&gt;312\\n645\\n_78</title>\n<path fill=\"none\" stroke=\"black\" d=\"M27,-377.82C27,-365.07 27,-350.58 27,-337.12\"/>\n<polygon fill=\"black\" stroke=\"black\" points=\"30.5,-337.07 27,-327.07 23.5,-337.07 30.5,-337.07\"/>\n<text text-anchor=\"middle\" x=\"32\" y=\"-348.66\" font-family=\"Times,serif\" font-size=\"14.00\">R</text>\n</g>\n<!-- 312\\n_45\\n678 -->\n<g id=\"node10\" class=\"node\">\n<title>312\\n_45\\n678</title>\n<ellipse fill=\"none\" stroke=\"black\" cx=\"27\" cy=\"-163.43\" rx=\"27\" ry=\"37.45\"/>\n<text text-anchor=\"middle\" x=\"27\" y=\"-174.73\" font-family=\"Times,serif\" font-size=\"14.00\">312</text>\n<text text-anchor=\"middle\" x=\"27\" y=\"-159.73\" font-family=\"Times,serif\" font-size=\"14.00\">_45</text>\n<text text-anchor=\"middle\" x=\"27\" y=\"-144.73\" font-family=\"Times,serif\" font-size=\"14.00\">678</text>\n</g>\n<!-- 312\\n645\\n_78&#45;&gt;312\\n_45\\n678 -->\n<g id=\"edge9\" class=\"edge\">\n<title>312\\n645\\n_78&#45;&gt;312\\n_45\\n678</title>\n<path fill=\"none\" stroke=\"black\" d=\"M27,-251.86C27,-239.12 27,-224.63 27,-211.17\"/>\n<polygon fill=\"black\" stroke=\"black\" points=\"30.5,-211.12 27,-201.12 23.5,-211.12 30.5,-211.12\"/>\n<text text-anchor=\"middle\" x=\"32\" y=\"-222.71\" font-family=\"Times,serif\" font-size=\"14.00\">D</text>\n</g>\n<!-- _12\\n345\\n678 -->\n<g id=\"node11\" class=\"node\">\n<title>_12\\n345\\n678</title>\n<ellipse fill=\"none\" stroke=\"black\" cx=\"27\" cy=\"-37.48\" rx=\"27\" ry=\"37.45\"/>\n<text text-anchor=\"middle\" x=\"27\" y=\"-48.78\" font-family=\"Times,serif\" font-size=\"14.00\">_12</text>\n<text text-anchor=\"middle\" x=\"27\" y=\"-33.78\" font-family=\"Times,serif\" font-size=\"14.00\">345</text>\n<text text-anchor=\"middle\" x=\"27\" y=\"-18.78\" font-family=\"Times,serif\" font-size=\"14.00\">678</text>\n</g>\n<!-- 312\\n_45\\n678&#45;&gt;_12\\n345\\n678 -->\n<g id=\"edge10\" class=\"edge\">\n<title>312\\n_45\\n678&#45;&gt;_12\\n345\\n678</title>\n<path fill=\"none\" stroke=\"black\" d=\"M27,-125.91C27,-113.16 27,-98.68 27,-85.21\"/>\n<polygon fill=\"black\" stroke=\"black\" points=\"30.5,-85.16 27,-75.16 23.5,-85.16 30.5,-85.16\"/>\n<text text-anchor=\"middle\" x=\"32\" y=\"-96.75\" font-family=\"Times,serif\" font-size=\"14.00\">D</text>\n</g>\n</g>\n</svg>\n",
            "text/plain": [
              "<graphviz.graphs.Digraph at 0x7bd1e32bbee0>"
            ]
          },
          "metadata": {},
          "execution_count": 11
        }
      ]
    },
    {
      "cell_type": "markdown",
      "source": [
        "# b) Calculate the performance of 1000 random starting states"
      ],
      "metadata": {
        "id": "Ho0h0zwK_7MB"
      }
    },
    {
      "cell_type": "markdown",
      "source": [
        "### ■ Find all possible states to achieve the goal state"
      ],
      "metadata": {
        "id": "F3jdc-enYfl4"
      }
    },
    {
      "cell_type": "code",
      "source": [
        "searcher = search()\n",
        "qualified_set1 = searcher.qualified_states(Node([[1, 2, 3], [4, 5, 6], [7, 8, 0]]))\n",
        "qualified_set2 = searcher.qualified_states(Node([[0, 1, 2], [3, 4, 5], [6, 7, 8]]))\n",
        "all_qualified_states = qualified_set1 | qualified_set2\n",
        "\n",
        "print(len(qualified_set1)) # 181440 states\n",
        "print(len(qualified_set2)) # 181440 states\n",
        "print(len(all_qualified_states)) # 181440 states\n",
        "\n",
        "with open('all_qualified_states.txt', 'w') as f:\n",
        "  for state in all_qualified_states:\n",
        "    f.write(state + '\\n')\n",
        "\n",
        "print(\"Saved in 'all_qualified_states.txt'\")"
      ],
      "metadata": {
        "colab": {
          "base_uri": "https://localhost:8080/"
        },
        "id": "_71Irr8TCJi6",
        "outputId": "0e890e77-d632-47f9-dc3a-a362b756f454"
      },
      "execution_count": null,
      "outputs": [
        {
          "output_type": "stream",
          "name": "stdout",
          "text": [
            "181440\n",
            "181440\n",
            "181440\n",
            "Saved in 'all_qualified_states.txt'\n"
          ]
        }
      ]
    },
    {
      "cell_type": "markdown",
      "source": [
        "### ■ Randomly generate 1000 starting states"
      ],
      "metadata": {
        "id": "A4PUhX4dbj4f"
      }
    },
    {
      "cell_type": "code",
      "source": [
        "with open('all_qualified_states.txt', 'r') as f:\n",
        "  lines = f.readlines()\n",
        "\n",
        "n_random = 5\n",
        "list_random = random.sample(lines, n_random)"
      ],
      "metadata": {
        "id": "nQlXcDd3KPpu"
      },
      "execution_count": null,
      "outputs": []
    },
    {
      "cell_type": "markdown",
      "source": [
        "### ■ Solve using BFS and A* algorithms"
      ],
      "metadata": {
        "id": "h_QiJPFgb3mL"
      }
    },
    {
      "cell_type": "code",
      "source": [
        "searcher = search()\n",
        "\n",
        "total_cost_BFS = 0\n",
        "total_cost_Astar_M = 0\n",
        "total_cost_Astar_E = 0\n",
        "count = 1\n",
        "\n",
        "for id in list_random:\n",
        "  current_node = Node(id.strip('\\n'))\n",
        "\n",
        "  list_node_BFS = searcher.BFS(current_node)\n",
        "  list_node_Astar_M = searcher.A_star(current_node, searcher.manhattan)\n",
        "  list_node_Astar_E = searcher.A_star(current_node, searcher.euclidean)\n",
        "\n",
        "  dot1, path_BFS, cost_BFS = searcher.visualize(list_node_BFS)\n",
        "  dot2, path_Astar_M, cost_Astar_M = searcher.visualize(list_node_Astar_M)\n",
        "  dot2, path_Astar_E, cost_Astar_E = searcher.visualize(list_node_Astar_E)\n",
        "\n",
        "  print(f\"\\nstate {count}:\", id.strip('\\n'))\n",
        "  print(\"BFS\", f\"\\n Cost: {cost_BFS}\", \"\\n Path:\", path_BFS)\n",
        "  print(\"A* Mahattan\", f\"\\n Cost: {cost_Astar_M}\", \"\\n Path:\", path_Astar_M)\n",
        "  print(\"A* Euclidean\", f\"\\n Cost: {cost_Astar_E}\", \"\\n Path:\", path_Astar_E)\n",
        "\n",
        "  total_cost_BFS += cost_BFS\n",
        "  total_cost_Astar_M += cost_Astar_M\n",
        "  total_cost_Astar_E += cost_Astar_E\n",
        "  count += 1"
      ],
      "metadata": {
        "colab": {
          "base_uri": "https://localhost:8080/"
        },
        "id": "-o_oUkbhcCL1",
        "outputId": "3d72f9da-afe1-4fd8-e2cd-3dd7aa31d050"
      },
      "execution_count": null,
      "outputs": [
        {
          "output_type": "stream",
          "name": "stdout",
          "text": [
            "\n",
            "state 1: _15\\n462\\n738\n",
            "BFS \n",
            " Cost: 12 \n",
            " Path: ['L', 'L', 'U', 'R', 'U', 'L', 'D', 'R', 'D', 'L', 'U', 'U']\n",
            "A* Mahattan \n",
            " Cost: 30 \n",
            " Path: ['U', 'L', 'U', 'R', 'D', 'L', 'D', 'R', 'U', 'L', 'D', 'L', 'U', 'R', 'R', 'D', 'L', 'U', 'L', 'D', 'R', 'R', 'U', 'L', 'D', 'L', 'U', 'R', 'R', 'D']\n",
            "A* Euclidean \n",
            " Cost: 24 \n",
            " Path: ['U', 'L', 'U', 'R', 'D', 'L', 'L', 'D', 'R', 'R', 'U', 'L', 'D', 'L', 'U', 'R', 'R', 'D', 'L', 'U', 'L', 'D', 'R', 'R']\n",
            "\n",
            "state 2: 134\\n72_\\n865\n",
            "BFS \n",
            " Cost: 11 \n",
            " Path: ['D', 'R', 'U', 'L', 'U', 'R', 'R', 'D', 'L', 'L', 'U']\n",
            "A* Mahattan \n",
            " Cost: 37 \n",
            " Path: ['R', 'D', 'L', 'U', 'U', 'R', 'R', 'D', 'L', 'D', 'R', 'U', 'L', 'U', 'L', 'D', 'R', 'R', 'U', 'L', 'D', 'L', 'U', 'R', 'D', 'R', 'D', 'L', 'L', 'U', 'U', 'R', 'D', 'L', 'D', 'R', 'R']\n",
            "A* Euclidean \n",
            " Cost: 59 \n",
            " Path: ['R', 'D', 'L', 'U', 'U', 'R', 'R', 'D', 'L', 'D', 'R', 'U', 'L', 'U', 'L', 'D', 'R', 'R', 'U', 'L', 'L', 'D', 'R', 'U', 'R', 'D', 'D', 'L', 'U', 'L', 'D', 'R', 'R', 'U', 'U', 'L', 'D', 'R', 'D', 'L', 'L', 'U', 'R', 'D', 'L', 'U', 'R', 'U', 'L', 'D', 'D', 'R', 'U', 'L', 'U', 'R', 'D', 'D', 'R']\n",
            "\n",
            "state 3: _73\\n682\\n415\n",
            "BFS \n",
            " Cost: 22 \n",
            " Path: ['U', 'L', 'D', 'L', 'U', 'R', 'U', 'R', 'D', 'D', 'L', 'U', 'U', 'R', 'D', 'L', 'L', 'U', 'R', 'D', 'R', 'D']\n",
            "A* Mahattan \n",
            " Cost: 52 \n",
            " Path: ['L', 'L', 'U', 'R', 'U', 'R', 'D', 'D', 'L', 'U', 'U', 'L', 'D', 'R', 'U', 'R', 'D', 'D', 'L', 'U', 'L', 'D', 'R', 'R', 'U', 'U', 'L', 'D', 'R', 'D', 'L', 'L', 'U', 'R', 'D', 'R', 'U', 'L', 'L', 'U', 'R', 'D', 'R', 'U', 'L', 'L', 'D', 'R', 'U', 'R', 'D', 'D']\n",
            "A* Euclidean \n",
            " Cost: 96 \n",
            " Path: ['L', 'L', 'U', 'U', 'R', 'R', 'D', 'D', 'L', 'U', 'U', 'R', 'D', 'D', 'L', 'U', 'U', 'R', 'D', 'L', 'D', 'R', 'U', 'L', 'D', 'R', 'U', 'U', 'L', 'D', 'D', 'R', 'U', 'L', 'U', 'R', 'D', 'D', 'L', 'L', 'U', 'U', 'R', 'D', 'L', 'D', 'R', 'U', 'L', 'U', 'R', 'R', 'D', 'D', 'L', 'U', 'R', 'U', 'L', 'D', 'L', 'D', 'R', 'R', 'U', 'L', 'U', 'R', 'D', 'D', 'L', 'L', 'U', 'R', 'D', 'R', 'U', 'U', 'L', 'D', 'R', 'U', 'L', 'D', 'L', 'U', 'R', 'R', 'D', 'L', 'U', 'L', 'D', 'R', 'R', 'D']\n",
            "\n",
            "state 4: 86_\\n745\\n321\n",
            "BFS \n",
            " Cost: 28 \n",
            " Path: ['R', 'U', 'R', 'U', 'L', 'D', 'R', 'D', 'L', 'U', 'R', 'U', 'L', 'L', 'D', 'R', 'U', 'L', 'D', 'D', 'R', 'U', 'R', 'D', 'L', 'U', 'U', 'L']\n",
            "A* Mahattan \n",
            " Cost: 90 \n",
            " Path: ['U', 'U', 'R', 'R', 'D', 'D', 'L', 'L', 'U', 'U', 'R', 'R', 'D', 'D', 'L', 'L', 'U', 'U', 'R', 'R', 'D', 'D', 'L', 'U', 'L', 'U', 'R', 'D', 'R', 'U', 'L', 'D', 'D', 'R', 'U', 'L', 'L', 'U', 'R', 'D', 'R', 'U', 'L', 'L', 'D', 'R', 'U', 'R', 'D', 'D', 'L', 'U', 'L', 'D', 'R', 'U', 'R', 'U', 'L', 'D', 'D', 'R', 'U', 'U', 'L', 'D', 'R', 'D', 'L', 'L', 'U', 'R', 'D', 'R', 'U', 'L', 'L', 'U', 'R', 'D', 'R', 'U', 'L', 'L', 'D', 'R', 'U', 'R', 'D', 'D']\n",
            "A* Euclidean \n",
            " Cost: 80 \n",
            " Path: ['U', 'U', 'R', 'R', 'D', 'D', 'L', 'L', 'U', 'U', 'R', 'R', 'D', 'D', 'L', 'L', 'U', 'U', 'R', 'R', 'D', 'L', 'L', 'U', 'R', 'R', 'D', 'L', 'D', 'R', 'U', 'U', 'L', 'D', 'R', 'D', 'L', 'U', 'U', 'L', 'D', 'R', 'D', 'L', 'U', 'U', 'R', 'D', 'L', 'D', 'R', 'R', 'U', 'L', 'L', 'D', 'R', 'U', 'R', 'D', 'L', 'L', 'U', 'R', 'D', 'L', 'U', 'R', 'U', 'L', 'D', 'D', 'R', 'U', 'L', 'U', 'R', 'D', 'D', 'R']\n",
            "\n",
            "state 5: 576\\n238\\n_41\n",
            "BFS \n",
            " Cost: 24 \n",
            " Path: ['L', 'L', 'D', 'D', 'R', 'U', 'U', 'L', 'D', 'D', 'R', 'R', 'U', 'L', 'L', 'U', 'R', 'D', 'D', 'R', 'U', 'U', 'L', 'L']\n",
            "A* Mahattan \n",
            " Cost: 36 \n",
            " Path: ['L', 'L', 'D', 'D', 'R', 'R', 'U', 'L', 'L', 'D', 'R', 'R', 'U', 'L', 'L', 'D', 'R', 'U', 'U', 'R', 'D', 'D', 'L', 'U', 'U', 'R', 'D', 'D', 'L', 'U', 'R', 'U', 'L', 'D', 'D', 'R']\n",
            "A* Euclidean \n",
            " Cost: 52 \n",
            " Path: ['L', 'L', 'D', 'D', 'R', 'R', 'U', 'L', 'L', 'D', 'R', 'R', 'U', 'L', 'U', 'R', 'D', 'D', 'L', 'U', 'L', 'D', 'R', 'R', 'U', 'L', 'D', 'L', 'U', 'R', 'R', 'D', 'L', 'L', 'U', 'R', 'D', 'L', 'U', 'R', 'U', 'L', 'D', 'D', 'R', 'U', 'L', 'U', 'R', 'D', 'D', 'R']\n"
          ]
        }
      ]
    },
    {
      "cell_type": "markdown",
      "source": [
        "### ■ Total & Average cost of 1000 experiments for each algorithm."
      ],
      "metadata": {
        "id": "O3cHFBbdcPJ3"
      }
    },
    {
      "cell_type": "code",
      "source": [
        "print(f\"BFS \\t\\t [TotalCost: {total_cost_BFS}] [AvgCost: {total_cost_BFS / n_random}]\")\n",
        "print(f\"A* Mahattan \\t [TotalCost: {total_cost_Astar_M}] [AvgCost: {total_cost_Astar_M / n_random}]\")\n",
        "print(f\"A* Euclidean \\t [TotalCost: {total_cost_Astar_E}] [AvgCost: {total_cost_Astar_E / n_random}]\")"
      ],
      "metadata": {
        "colab": {
          "base_uri": "https://localhost:8080/"
        },
        "id": "OShy5k6zgys7",
        "outputId": "dbd431d8-fe79-4e40-cdac-85c17e715ae0"
      },
      "execution_count": null,
      "outputs": [
        {
          "output_type": "stream",
          "name": "stdout",
          "text": [
            "BFS \t\t [TotalCost: 97] [AvgCost: 19.4]\n",
            "A* Mahattan \t [TotalCost: 245] [AvgCost: 49.0]\n",
            "A* Euclidean \t [TotalCost: 311] [AvgCost: 62.2]\n"
          ]
        }
      ]
    },
    {
      "cell_type": "markdown",
      "source": [
        "### ■ Visualize to compare the performance of algorithms"
      ],
      "metadata": {
        "id": "3LPE31bmi4MO"
      }
    },
    {
      "cell_type": "code",
      "source": [
        "labels = ['BFS', 'A* Manhattan', 'A* Euclidean']\n",
        "\n",
        "total_costs = [total_cost_BFS, total_cost_Astar_M, total_cost_Astar_E]\n",
        "avg_costs = [total_cost_BFS/n_random, total_cost_Astar_M/n_random, total_cost_Astar_E/n_random]\n",
        "\n",
        "x = range(len(labels))\n",
        "\n",
        "plt.figure(figsize=(10, 6))\n",
        "plt.bar(x, total_costs, color='blue')\n",
        "plt.xlabel('Algorithm')\n",
        "plt.ylabel('Total Cost')\n",
        "plt.xticks(x, labels)\n",
        "plt.title('Total Cost for Each Algorithm')\n",
        "plt.show()\n",
        "\n",
        "plt.figure(figsize=(10, 6))\n",
        "plt.bar(x, avg_costs, color='green')\n",
        "plt.xlabel('Algorithm')\n",
        "plt.ylabel('Average Cost')\n",
        "plt.xticks(x, labels)\n",
        "plt.title('Average Cost for Each Algorithm')\n",
        "plt.show()"
      ],
      "metadata": {
        "colab": {
          "base_uri": "https://localhost:8080/",
          "height": 1000
        },
        "id": "dI4O13EicT4F",
        "outputId": "4f1cf897-16db-4a7a-8ad8-e7f1292b91fd"
      },
      "execution_count": null,
      "outputs": [
        {
          "output_type": "display_data",
          "data": {
            "text/plain": [
              "<Figure size 1000x600 with 1 Axes>"
            ],
            "image/png": "[encoded data removed]"
          },
          "metadata": {}
        },
        {
          "output_type": "display_data",
          "data": {
            "text/plain": [
              "<Figure size 1000x600 with 1 Axes>"
            ],
            "image/png": "[encoded data removed]"
          },
          "metadata": {}
        }
      ]
    }
  ]
}